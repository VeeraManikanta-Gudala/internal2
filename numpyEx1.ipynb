{
 "cells": [
  {
   "cell_type": "code",
   "execution_count": 1,
   "id": "071d181e",
   "metadata": {},
   "outputs": [],
   "source": [
    "import numpy as np"
   ]
  },
  {
   "cell_type": "code",
   "execution_count": 2,
   "id": "36d0cc4c",
   "metadata": {},
   "outputs": [
    {
     "data": {
      "text/plain": [
       "array([10, 20, 30])"
      ]
     },
     "execution_count": 2,
     "metadata": {},
     "output_type": "execute_result"
    }
   ],
   "source": [
    "array1 = np.array([10,20,30]) \n",
    "array1"
   ]
  },
  {
   "cell_type": "markdown",
   "id": "be9c3aa1",
   "metadata": {},
   "source": [
    "Creating a 1-D Array\n",
    "An array with only single row of elements is called\n",
    "1-D array. Let us try to create a 1-D array from\n",
    "a list which contains numbers as well as strings. \n"
   ]
  },
  {
   "cell_type": "code",
   "execution_count": 3,
   "id": "75789b55",
   "metadata": {},
   "outputs": [
    {
     "name": "stdout",
     "output_type": "stream",
     "text": [
      "['5' '-7.4' 'a' '7.2']\n"
     ]
    }
   ],
   "source": [
    "array2 = np.array([5,-7.4,'a',7.2]) #all integer and float values have been promoted to string, while converting the list to array.\n",
    "print(array2)"
   ]
  },
  {
   "cell_type": "code",
   "execution_count": 4,
   "id": "8cb65f24",
   "metadata": {},
   "outputs": [
    {
     "name": "stdout",
     "output_type": "stream",
     "text": [
      "[[ 2.4   3.  ]\n",
      " [ 4.91  7.  ]\n",
      " [ 0.   -1.  ]]\n"
     ]
    }
   ],
   "source": [
    "array3 = np.array(  [   [2.4,3], [4.91,7],[0,-1]     ]     )\n",
    "print(array3)"
   ]
  },
  {
   "cell_type": "markdown",
   "id": "bea0cef2",
   "metadata": {},
   "source": [
    "Attributes of NumPy Array\n",
    "ndarray.ndim: gives the number of dimensions\n",
    "of the array as an integer value. Arrays can be\n",
    "1-D, 2-D or n-D.  NumPy calls the\n",
    "dimensions as axes (plural of axis). Thus, a 2-D\n",
    "array has two axes. The row-axis is called axis-0\n",
    "and the column-axis is called axis-1. The number\n",
    "of axes is also called the array’s rank.\n"
   ]
  },
  {
   "cell_type": "code",
   "execution_count": 5,
   "id": "36e9ca47",
   "metadata": {},
   "outputs": [
    {
     "data": {
      "text/plain": [
       "1"
      ]
     },
     "execution_count": 5,
     "metadata": {},
     "output_type": "execute_result"
    }
   ],
   "source": [
    "array1.ndim\n"
   ]
  },
  {
   "cell_type": "code",
   "execution_count": 6,
   "id": "a76dd8e6",
   "metadata": {},
   "outputs": [
    {
     "data": {
      "text/plain": [
       "1"
      ]
     },
     "execution_count": 6,
     "metadata": {},
     "output_type": "execute_result"
    }
   ],
   "source": [
    "array2.ndim"
   ]
  },
  {
   "cell_type": "code",
   "execution_count": 7,
   "id": "79563952",
   "metadata": {},
   "outputs": [
    {
     "data": {
      "text/plain": [
       "2"
      ]
     },
     "execution_count": 7,
     "metadata": {},
     "output_type": "execute_result"
    }
   ],
   "source": [
    "array3.ndim"
   ]
  },
  {
   "cell_type": "markdown",
   "id": "17a6fcfa",
   "metadata": {},
   "source": [
    "ndarray.shape: It gives the sequence of integers\n",
    "indicating the size of the array for each dimension. "
   ]
  },
  {
   "cell_type": "code",
   "execution_count": 8,
   "id": "62478ad1",
   "metadata": {},
   "outputs": [
    {
     "data": {
      "text/plain": [
       "(3,)"
      ]
     },
     "execution_count": 8,
     "metadata": {},
     "output_type": "execute_result"
    }
   ],
   "source": [
    "array1 = np.array([10,20,30]) \n",
    "array1.shape"
   ]
  },
  {
   "cell_type": "code",
   "execution_count": 9,
   "id": "494414f1",
   "metadata": {},
   "outputs": [
    {
     "data": {
      "text/plain": [
       "(4,)"
      ]
     },
     "execution_count": 9,
     "metadata": {},
     "output_type": "execute_result"
    }
   ],
   "source": [
    "array2 = np.array([5,-7.4,'a',7.2])\n",
    "array2.shape"
   ]
  },
  {
   "cell_type": "code",
   "execution_count": 14,
   "id": "ce33e87f",
   "metadata": {},
   "outputs": [
    {
     "data": {
      "text/plain": [
       "(3, 2)"
      ]
     },
     "execution_count": 14,
     "metadata": {},
     "output_type": "execute_result"
    }
   ],
   "source": [
    "array3 = np.array(  [   [2.4,3], [4.91,7],[0,-1]     ]     )\n",
    "array3.shape"
   ]
  },
  {
   "cell_type": "markdown",
   "id": "21ab78b4",
   "metadata": {},
   "source": [
    "ndarray.size: It gives the total number of\n",
    "elements of the array. This is equal to the product\n",
    "of the elements of shape."
   ]
  },
  {
   "cell_type": "code",
   "execution_count": 10,
   "id": "a0cbfd70",
   "metadata": {},
   "outputs": [
    {
     "data": {
      "text/plain": [
       "3"
      ]
     },
     "execution_count": 10,
     "metadata": {},
     "output_type": "execute_result"
    }
   ],
   "source": [
    "array1.size"
   ]
  },
  {
   "cell_type": "code",
   "execution_count": 11,
   "id": "e8e83867",
   "metadata": {},
   "outputs": [
    {
     "data": {
      "text/plain": [
       "4"
      ]
     },
     "execution_count": 11,
     "metadata": {},
     "output_type": "execute_result"
    }
   ],
   "source": [
    "array2.size"
   ]
  },
  {
   "cell_type": "code",
   "execution_count": 12,
   "id": "67cf9edb",
   "metadata": {},
   "outputs": [
    {
     "data": {
      "text/plain": [
       "6"
      ]
     },
     "execution_count": 12,
     "metadata": {},
     "output_type": "execute_result"
    }
   ],
   "source": [
    "array3.size"
   ]
  },
  {
   "cell_type": "markdown",
   "id": "20cffd92",
   "metadata": {},
   "source": [
    "ndarray.dtype: is the data type of the elements\n",
    "of the array. All the elements of an array are of\n",
    "same data type. Common data types are int32,\n",
    "int64, float32, float64, U32, etc."
   ]
  },
  {
   "cell_type": "code",
   "execution_count": 13,
   "id": "3d932678",
   "metadata": {},
   "outputs": [
    {
     "data": {
      "text/plain": [
       "dtype('int32')"
      ]
     },
     "execution_count": 13,
     "metadata": {},
     "output_type": "execute_result"
    }
   ],
   "source": [
    "array1.dtype"
   ]
  },
  {
   "cell_type": "code",
   "execution_count": 14,
   "id": "ac96a423",
   "metadata": {},
   "outputs": [
    {
     "data": {
      "text/plain": [
       "dtype('<U32')"
      ]
     },
     "execution_count": 14,
     "metadata": {},
     "output_type": "execute_result"
    }
   ],
   "source": [
    "array2.dtype"
   ]
  },
  {
   "cell_type": "code",
   "execution_count": 15,
   "id": "fa33b48b",
   "metadata": {},
   "outputs": [
    {
     "data": {
      "text/plain": [
       "dtype('float64')"
      ]
     },
     "execution_count": 15,
     "metadata": {},
     "output_type": "execute_result"
    }
   ],
   "source": [
    "array3.dtype"
   ]
  },
  {
   "cell_type": "markdown",
   "id": "15528f93",
   "metadata": {},
   "source": [
    "We can specify data type (integer, float, etc.) while\n",
    "creating array using dtype as an argument to\n",
    "array(). This will convert the data automatically\n",
    "to the mentioned type."
   ]
  },
  {
   "cell_type": "code",
   "execution_count": 16,
   "id": "10011552",
   "metadata": {},
   "outputs": [
    {
     "data": {
      "text/plain": [
       "array([[1., 2.],\n",
       "       [3., 4.]])"
      ]
     },
     "execution_count": 16,
     "metadata": {},
     "output_type": "execute_result"
    }
   ],
   "source": [
    "array4 = np.array( [ [1,2], [3,4] ],\n",
    " dtype=float)\n",
    "array4"
   ]
  },
  {
   "cell_type": "code",
   "execution_count": 17,
   "id": "8f6975db",
   "metadata": {},
   "outputs": [
    {
     "data": {
      "text/plain": [
       "array([[0., 0., 0., 0.],\n",
       "       [0., 0., 0., 0.],\n",
       "       [0., 0., 0., 0.]])"
      ]
     },
     "execution_count": 17,
     "metadata": {},
     "output_type": "execute_result"
    }
   ],
   "source": [
    "array5 = np.zeros((3,4))\n",
    "array5"
   ]
  },
  {
   "cell_type": "code",
   "execution_count": 18,
   "id": "20b8cf64",
   "metadata": {},
   "outputs": [
    {
     "data": {
      "text/plain": [
       "array([[1., 1.],\n",
       "       [1., 1.],\n",
       "       [1., 1.]])"
      ]
     },
     "execution_count": 18,
     "metadata": {},
     "output_type": "execute_result"
    }
   ],
   "source": [
    "array6 = np.ones((3,2))\n",
    "array6"
   ]
  },
  {
   "cell_type": "code",
   "execution_count": 10,
   "id": "1184e471",
   "metadata": {},
   "outputs": [
    {
     "data": {
      "text/plain": [
       "array([[0, 0, 0, 0],\n",
       "       [0, 0, 0, 0],\n",
       "       [0, 0, 0, 0]])"
      ]
     },
     "execution_count": 10,
     "metadata": {},
     "output_type": "execute_result"
    }
   ],
   "source": [
    "array5 = np.zeros((3,4),dtype= int)\n",
    "array5"
   ]
  },
  {
   "cell_type": "code",
   "execution_count": 26,
   "id": "1f64758c",
   "metadata": {},
   "outputs": [
    {
     "data": {
      "text/plain": [
       "array([[1, 1],\n",
       "       [1, 1],\n",
       "       [1, 1]])"
      ]
     },
     "execution_count": 26,
     "metadata": {},
     "output_type": "execute_result"
    }
   ],
   "source": [
    "array6 = np.ones((3,2),dtype= int)\n",
    "array6"
   ]
  },
  {
   "cell_type": "markdown",
   "id": "04517a4d",
   "metadata": {},
   "source": [
    "We can create an array with numbers in a given\n",
    "range and sequence using the arange() function."
   ]
  },
  {
   "cell_type": "code",
   "execution_count": 20,
   "id": "26a4e6d7",
   "metadata": {},
   "outputs": [
    {
     "data": {
      "text/plain": [
       "array([0, 1, 2, 3, 4, 5])"
      ]
     },
     "execution_count": 20,
     "metadata": {},
     "output_type": "execute_result"
    }
   ],
   "source": [
    "array7 = np.arange(6) \n",
    "array7\n"
   ]
  },
  {
   "cell_type": "code",
   "execution_count": 21,
   "id": "754fe1e4",
   "metadata": {},
   "outputs": [
    {
     "data": {
      "text/plain": [
       "array([-2,  2,  6, 10, 14, 18, 22])"
      ]
     },
     "execution_count": 21,
     "metadata": {},
     "output_type": "execute_result"
    }
   ],
   "source": [
    "array8 = np.arange( -2, 24, 4 )\n",
    "array8"
   ]
  },
  {
   "cell_type": "code",
   "execution_count": 22,
   "id": "8550dffc",
   "metadata": {},
   "outputs": [
    {
     "data": {
      "text/plain": [
       "array([-2, -1,  0,  1,  2,  3,  4,  5,  6,  7,  8,  9, 10, 11, 12, 13, 14,\n",
       "       15, 16, 17, 18, 19, 20, 21, 22, 23])"
      ]
     },
     "execution_count": 22,
     "metadata": {},
     "output_type": "execute_result"
    }
   ],
   "source": [
    "array9 = np.arange( -2, 24 )\n",
    "array9"
   ]
  },
  {
   "cell_type": "markdown",
   "id": "f4c368cd",
   "metadata": {},
   "source": [
    "Indexing and Slicing"
   ]
  },
  {
   "cell_type": "code",
   "execution_count": 23,
   "id": "e67f1fe9",
   "metadata": {},
   "outputs": [
    {
     "data": {
      "text/plain": [
       "array([[78, 67, 56],\n",
       "       [76, 75, 46],\n",
       "       [84, 59, 60],\n",
       "       [67, 72, 54]])"
      ]
     },
     "execution_count": 23,
     "metadata": {},
     "output_type": "execute_result"
    }
   ],
   "source": [
    "marks = np.array( [[78,67,56],[76,75,46],[84,59,60],[67,72,54]])\n",
    "marks"
   ]
  },
  {
   "cell_type": "code",
   "execution_count": 24,
   "id": "e87a2605",
   "metadata": {},
   "outputs": [
    {
     "data": {
      "text/plain": [
       "2"
      ]
     },
     "execution_count": 24,
     "metadata": {},
     "output_type": "execute_result"
    }
   ],
   "source": [
    "marks.ndim"
   ]
  },
  {
   "cell_type": "code",
   "execution_count": 25,
   "id": "26571a4a",
   "metadata": {},
   "outputs": [
    {
     "data": {
      "text/plain": [
       "(4, 3)"
      ]
     },
     "execution_count": 25,
     "metadata": {},
     "output_type": "execute_result"
    }
   ],
   "source": [
    "marks.shape"
   ]
  },
  {
   "cell_type": "code",
   "execution_count": 23,
   "id": "daa4bb9b",
   "metadata": {},
   "outputs": [
    {
     "data": {
      "text/plain": [
       "12"
      ]
     },
     "execution_count": 23,
     "metadata": {},
     "output_type": "execute_result"
    }
   ],
   "source": [
    "marks.size"
   ]
  },
  {
   "cell_type": "code",
   "execution_count": 24,
   "id": "156f1ca5",
   "metadata": {},
   "outputs": [
    {
     "data": {
      "text/plain": [
       "56"
      ]
     },
     "execution_count": 24,
     "metadata": {},
     "output_type": "execute_result"
    }
   ],
   "source": [
    "marks[0][2]"
   ]
  },
  {
   "cell_type": "code",
   "execution_count": 35,
   "id": "1f67f706",
   "metadata": {},
   "outputs": [
    {
     "ename": "IndexError",
     "evalue": "index 3 is out of bounds for axis 0 with size 3",
     "output_type": "error",
     "traceback": [
      "\u001b[1;31m---------------------------------------------------------------------------\u001b[0m",
      "\u001b[1;31mIndexError\u001b[0m                                Traceback (most recent call last)",
      "Input \u001b[1;32mIn [35]\u001b[0m, in \u001b[0;36m<cell line: 1>\u001b[1;34m()\u001b[0m\n\u001b[1;32m----> 1\u001b[0m \u001b[43mmarks\u001b[49m\u001b[43m[\u001b[49m\u001b[38;5;241;43m0\u001b[39;49m\u001b[43m]\u001b[49m\u001b[43m[\u001b[49m\u001b[38;5;241;43m3\u001b[39;49m\u001b[43m]\u001b[49m\n",
      "\u001b[1;31mIndexError\u001b[0m: index 3 is out of bounds for axis 0 with size 3"
     ]
    }
   ],
   "source": [
    "marks[0][3]"
   ]
  },
  {
   "cell_type": "code",
   "execution_count": 36,
   "id": "1c2c2935",
   "metadata": {},
   "outputs": [
    {
     "ename": "IndexError",
     "evalue": "index 4 is out of bounds for axis 0 with size 4",
     "output_type": "error",
     "traceback": [
      "\u001b[1;31m---------------------------------------------------------------------------\u001b[0m",
      "\u001b[1;31mIndexError\u001b[0m                                Traceback (most recent call last)",
      "Input \u001b[1;32mIn [36]\u001b[0m, in \u001b[0;36m<cell line: 1>\u001b[1;34m()\u001b[0m\n\u001b[1;32m----> 1\u001b[0m \u001b[43mmarks\u001b[49m\u001b[43m[\u001b[49m\u001b[38;5;241;43m4\u001b[39;49m\u001b[43m]\u001b[49m[\u001b[38;5;241m2\u001b[39m]\n",
      "\u001b[1;31mIndexError\u001b[0m: index 4 is out of bounds for axis 0 with size 4"
     ]
    }
   ],
   "source": [
    "marks[4][2]"
   ]
  },
  {
   "cell_type": "markdown",
   "id": "1c08379c",
   "metadata": {},
   "source": [
    "We can define which part of the\n",
    "array to be sliced by specifying the start and end index\n",
    "values using [start : end] along with the array name."
   ]
  },
  {
   "cell_type": "code",
   "execution_count": 27,
   "id": "5e8aebf8",
   "metadata": {},
   "outputs": [
    {
     "data": {
      "text/plain": [
       "array([-2,  2,  6, 10, 14, 18, 22])"
      ]
     },
     "execution_count": 27,
     "metadata": {},
     "output_type": "execute_result"
    }
   ],
   "source": [
    "array8 = np.array([-2, 2, 6, 10, 14, 18, 22])\n",
    "array8\n",
    "\n",
    "                  "
   ]
  },
  {
   "cell_type": "code",
   "execution_count": 28,
   "id": "ef2d536b",
   "metadata": {},
   "outputs": [
    {
     "data": {
      "text/plain": [
       "array([10, 14, 18])"
      ]
     },
     "execution_count": 28,
     "metadata": {},
     "output_type": "execute_result"
    }
   ],
   "source": [
    "array8[3:6]  #[start : end] but it prints upto \"end-1\""
   ]
  },
  {
   "cell_type": "code",
   "execution_count": 42,
   "id": "88de6702",
   "metadata": {},
   "outputs": [
    {
     "data": {
      "text/plain": [
       "array([10, 14, 18, 22])"
      ]
     },
     "execution_count": 42,
     "metadata": {},
     "output_type": "execute_result"
    }
   ],
   "source": [
    "array8[3:7]"
   ]
  },
  {
   "cell_type": "code",
   "execution_count": 43,
   "id": "79a0eb0d",
   "metadata": {},
   "outputs": [
    {
     "data": {
      "text/plain": [
       "array([10, 14, 18, 22])"
      ]
     },
     "execution_count": 43,
     "metadata": {},
     "output_type": "execute_result"
    }
   ],
   "source": [
    "array8[3:8]"
   ]
  },
  {
   "cell_type": "code",
   "execution_count": 29,
   "id": "566f572c",
   "metadata": {},
   "outputs": [
    {
     "data": {
      "text/plain": [
       "array([[78, 67, 56],\n",
       "       [76, 75, 46],\n",
       "       [84, 59, 60],\n",
       "       [67, 72, 54]])"
      ]
     },
     "execution_count": 29,
     "metadata": {},
     "output_type": "execute_result"
    }
   ],
   "source": [
    "marks = np.array( [[78,67,56],[76,75,46],[84,59,60],[67,72,54]])\n",
    "marks\n"
   ]
  },
  {
   "cell_type": "code",
   "execution_count": 48,
   "id": "502f5eab",
   "metadata": {},
   "outputs": [
    {
     "data": {
      "text/plain": [
       "array([56, 46, 60, 54])"
      ]
     },
     "execution_count": 48,
     "metadata": {},
     "output_type": "execute_result"
    }
   ],
   "source": [
    "marks[0:4,2]"
   ]
  },
  {
   "cell_type": "code",
   "execution_count": 49,
   "id": "1138520e",
   "metadata": {},
   "outputs": [
    {
     "data": {
      "text/plain": [
       "array([[78, 67, 56],\n",
       "       [76, 75, 46],\n",
       "       [84, 59, 60],\n",
       "       [67, 72, 54]])"
      ]
     },
     "execution_count": 49,
     "metadata": {},
     "output_type": "execute_result"
    }
   ],
   "source": [
    "marks[:,:]"
   ]
  },
  {
   "cell_type": "code",
   "execution_count": 50,
   "id": "2a0c3b0a",
   "metadata": {},
   "outputs": [
    {
     "data": {
      "text/plain": [
       "array([67, 75, 59, 72])"
      ]
     },
     "execution_count": 50,
     "metadata": {},
     "output_type": "execute_result"
    }
   ],
   "source": [
    "marks[:,1]"
   ]
  },
  {
   "cell_type": "code",
   "execution_count": 51,
   "id": "ae2516f2",
   "metadata": {},
   "outputs": [
    {
     "data": {
      "text/plain": [
       "array([78, 76, 84, 67])"
      ]
     },
     "execution_count": 51,
     "metadata": {},
     "output_type": "execute_result"
    }
   ],
   "source": [
    "marks[:,0]"
   ]
  },
  {
   "cell_type": "code",
   "execution_count": 52,
   "id": "71c4d430",
   "metadata": {},
   "outputs": [
    {
     "ename": "IndexError",
     "evalue": "index 3 is out of bounds for axis 1 with size 3",
     "output_type": "error",
     "traceback": [
      "\u001b[1;31m---------------------------------------------------------------------------\u001b[0m",
      "\u001b[1;31mIndexError\u001b[0m                                Traceback (most recent call last)",
      "Input \u001b[1;32mIn [52]\u001b[0m, in \u001b[0;36m<cell line: 1>\u001b[1;34m()\u001b[0m\n\u001b[1;32m----> 1\u001b[0m \u001b[43mmarks\u001b[49m\u001b[43m[\u001b[49m\u001b[43m:\u001b[49m\u001b[43m,\u001b[49m\u001b[38;5;241;43m3\u001b[39;49m\u001b[43m]\u001b[49m\n",
      "\u001b[1;31mIndexError\u001b[0m: index 3 is out of bounds for axis 1 with size 3"
     ]
    }
   ],
   "source": [
    "marks[:,3]"
   ]
  },
  {
   "cell_type": "code",
   "execution_count": null,
   "id": "b10b04d3",
   "metadata": {},
   "outputs": [],
   "source": [
    "marks[:,3]"
   ]
  }
 ],
 "metadata": {
  "kernelspec": {
   "display_name": "Python 3 (ipykernel)",
   "language": "python",
   "name": "python3"
  },
  "language_info": {
   "codemirror_mode": {
    "name": "ipython",
    "version": 3
   },
   "file_extension": ".py",
   "mimetype": "text/x-python",
   "name": "python",
   "nbconvert_exporter": "python",
   "pygments_lexer": "ipython3",
   "version": "3.10.10"
  }
 },
 "nbformat": 4,
 "nbformat_minor": 5
}
