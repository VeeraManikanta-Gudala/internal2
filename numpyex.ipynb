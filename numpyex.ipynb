{
 "cells": [
  {
   "cell_type": "code",
   "execution_count": 1,
   "id": "480f4685",
   "metadata": {},
   "outputs": [],
   "source": [
    "import numpy as np"
   ]
  },
  {
   "cell_type": "markdown",
   "id": "d4febf6f",
   "metadata": {},
   "source": [
    "Operations on Arrays"
   ]
  },
  {
   "cell_type": "code",
   "execution_count": 2,
   "id": "3f5df4f5",
   "metadata": {},
   "outputs": [],
   "source": [
    "array1 = np.array([[3,6],[4,2]])\n",
    "array2 = np.array([[10,20],[15,12]])\n"
   ]
  },
  {
   "cell_type": "code",
   "execution_count": 3,
   "id": "f67bb2a1",
   "metadata": {},
   "outputs": [
    {
     "data": {
      "text/plain": [
       "array([[13, 26],\n",
       "       [19, 14]])"
      ]
     },
     "execution_count": 3,
     "metadata": {},
     "output_type": "execute_result"
    }
   ],
   "source": [
    "array1 + array2"
   ]
  },
  {
   "cell_type": "code",
   "execution_count": 4,
   "id": "cd132204",
   "metadata": {},
   "outputs": [
    {
     "data": {
      "text/plain": [
       "array([[ -7, -14],\n",
       "       [-11, -10]])"
      ]
     },
     "execution_count": 4,
     "metadata": {},
     "output_type": "execute_result"
    }
   ],
   "source": [
    "array1 - array2"
   ]
  },
  {
   "cell_type": "code",
   "execution_count": 5,
   "id": "6ad90fbc",
   "metadata": {},
   "outputs": [
    {
     "data": {
      "text/plain": [
       "array([[ 30, 120],\n",
       "       [ 60,  24]])"
      ]
     },
     "execution_count": 5,
     "metadata": {},
     "output_type": "execute_result"
    }
   ],
   "source": [
    "array1 * array2"
   ]
  },
  {
   "cell_type": "code",
   "execution_count": 6,
   "id": "8a202635",
   "metadata": {},
   "outputs": [
    {
     "data": {
      "text/plain": [
       "array([[120, 132],\n",
       "       [ 70, 104]])"
      ]
     },
     "execution_count": 6,
     "metadata": {},
     "output_type": "execute_result"
    }
   ],
   "source": [
    "#Matrix Multiplication\n",
    "array1 @ array2"
   ]
  },
  {
   "cell_type": "code",
   "execution_count": 7,
   "id": "cfee288c",
   "metadata": {},
   "outputs": [
    {
     "data": {
      "text/plain": [
       "array([[ 27, 216],\n",
       "       [ 64,   8]], dtype=int32)"
      ]
     },
     "execution_count": 7,
     "metadata": {},
     "output_type": "execute_result"
    }
   ],
   "source": [
    "#Exponentiation\n",
    "array1 ** 3"
   ]
  },
  {
   "cell_type": "code",
   "execution_count": 8,
   "id": "9d8b93b7",
   "metadata": {},
   "outputs": [
    {
     "data": {
      "text/plain": [
       "array([[3.33333333, 3.33333333],\n",
       "       [3.75      , 6.        ]])"
      ]
     },
     "execution_count": 8,
     "metadata": {},
     "output_type": "execute_result"
    }
   ],
   "source": [
    "#Division\n",
    "array2 / array1"
   ]
  },
  {
   "cell_type": "code",
   "execution_count": 9,
   "id": "37b0e9d9",
   "metadata": {},
   "outputs": [
    {
     "data": {
      "text/plain": [
       "array([[1, 2],\n",
       "       [3, 0]])"
      ]
     },
     "execution_count": 9,
     "metadata": {},
     "output_type": "execute_result"
    }
   ],
   "source": [
    "#Element wise Remainder of Division\n",
    "#(Modulo)\n",
    "array2 % array1"
   ]
  },
  {
   "cell_type": "code",
   "execution_count": 10,
   "id": "d5cc32d4",
   "metadata": {},
   "outputs": [
    {
     "data": {
      "text/plain": [
       "array([[ 10,  -7,   0,  20],\n",
       "       [ -5,   1, 200,  40],\n",
       "       [ 30,   1,  -1,   4]])"
      ]
     },
     "execution_count": 10,
     "metadata": {},
     "output_type": "execute_result"
    }
   ],
   "source": [
    "#Transpose\n",
    "array3 = np.array([[10,-7,0, 20],\n",
    "[-5,1,200,40],[30,1,-1,4]])\n",
    "array3"
   ]
  },
  {
   "cell_type": "code",
   "execution_count": 11,
   "id": "ab2a2a71",
   "metadata": {},
   "outputs": [
    {
     "data": {
      "text/plain": [
       "array([[ 10,  -5,  30],\n",
       "       [ -7,   1,   1],\n",
       "       [  0, 200,  -1],\n",
       "       [ 20,  40,   4]])"
      ]
     },
     "execution_count": 11,
     "metadata": {},
     "output_type": "execute_result"
    }
   ],
   "source": [
    "array3.transpose()"
   ]
  },
  {
   "cell_type": "code",
   "execution_count": 12,
   "id": "a5e69d7e",
   "metadata": {},
   "outputs": [
    {
     "data": {
      "text/plain": [
       "array([-3,  0,  1,  2,  4,  6,  7,  8])"
      ]
     },
     "execution_count": 12,
     "metadata": {},
     "output_type": "execute_result"
    }
   ],
   "source": [
    "#Sorting\n",
    "array4 = np.array([1,0,2,-3,6,8,4,7])\n",
    "array4.sort()\n",
    "array4"
   ]
  },
  {
   "cell_type": "markdown",
   "id": "a9632a9a",
   "metadata": {},
   "source": [
    "By default, sorting\n",
    "is done row-wise (i.e., on axis = 1). It means to arrange\n",
    "elements in each row in ascending order. When axis=0,\n",
    "sorting is done column-wise, which means each column\n",
    "is sorted in ascending order."
   ]
  },
  {
   "cell_type": "code",
   "execution_count": 13,
   "id": "d85bcdf6",
   "metadata": {},
   "outputs": [
    {
     "data": {
      "text/plain": [
       "array([[ 10,  -7,   0,  20],\n",
       "       [ -5,   1, 200,  40],\n",
       "       [ 30,   1,  -1,   4]])"
      ]
     },
     "execution_count": 13,
     "metadata": {},
     "output_type": "execute_result"
    }
   ],
   "source": [
    "array4 = np.array([[10,-7,0, 20],\n",
    "[-5,1,200,40],[30,1,-1,4]])\n",
    "array4"
   ]
  },
  {
   "cell_type": "code",
   "execution_count": 14,
   "id": "4fc4eb95",
   "metadata": {},
   "outputs": [
    {
     "data": {
      "text/plain": [
       "array([[ -7,   0,  10,  20],\n",
       "       [ -5,   1,  40, 200],\n",
       "       [ -1,   1,   4,  30]])"
      ]
     },
     "execution_count": 14,
     "metadata": {},
     "output_type": "execute_result"
    }
   ],
   "source": [
    "array4.sort()\n",
    "array4"
   ]
  },
  {
   "cell_type": "code",
   "execution_count": 15,
   "id": "1094f81f",
   "metadata": {},
   "outputs": [
    {
     "data": {
      "text/plain": [
       "array([[ 10,  -7,   0,  20],\n",
       "       [ -5,   1, 200,  40],\n",
       "       [ 30,   1,  -1,   4]])"
      ]
     },
     "execution_count": 15,
     "metadata": {},
     "output_type": "execute_result"
    }
   ],
   "source": [
    "array4 = np.array([[10,-7,0, 20],\n",
    "[-5,1,200,40],[30,1,-1,4]])\n",
    "array4"
   ]
  },
  {
   "cell_type": "code",
   "execution_count": 19,
   "id": "9c2fbf00",
   "metadata": {},
   "outputs": [
    {
     "data": {
      "text/plain": [
       "array([[ -5,  -7,  -1,   4],\n",
       "       [ 10,   1,   0,  20],\n",
       "       [ 30,   1, 200,  40]])"
      ]
     },
     "execution_count": 19,
     "metadata": {},
     "output_type": "execute_result"
    }
   ],
   "source": [
    "array4.sort(axis=0)\n",
    "array4"
   ]
  },
  {
   "cell_type": "markdown",
   "id": "4a6b17ee",
   "metadata": {},
   "source": [
    "oncatenating Arrays\n",
    "Concatenation means joining two or more arrays.\n",
    "Concatenating 1-D arrays means appending the\n",
    "sequences one after another. NumPy.concatenate() function can be used to\n",
    "concatenate two or more\n",
    "2-D arrays either row-wise or column-wise."
   ]
  },
  {
   "cell_type": "code",
   "execution_count": 21,
   "id": "b26cbc78",
   "metadata": {},
   "outputs": [
    {
     "data": {
      "text/plain": [
       "array([[ 10,  20],\n",
       "       [-30,  40]])"
      ]
     },
     "execution_count": 21,
     "metadata": {},
     "output_type": "execute_result"
    }
   ],
   "source": [
    "array1 = np.array([[10, 20], [-30,40]])\n",
    "array2 = np.zeros((2, 3), dtype=array1.dtype)\n",
    "array1\n"
   ]
  },
  {
   "cell_type": "code",
   "execution_count": 22,
   "id": "6b7edb70",
   "metadata": {},
   "outputs": [
    {
     "data": {
      "text/plain": [
       "array([[0, 0, 0],\n",
       "       [0, 0, 0]])"
      ]
     },
     "execution_count": 22,
     "metadata": {},
     "output_type": "execute_result"
    }
   ],
   "source": [
    "array2"
   ]
  },
  {
   "cell_type": "code",
   "execution_count": 23,
   "id": "a7b162cd",
   "metadata": {},
   "outputs": [
    {
     "data": {
      "text/plain": [
       "(2, 2)"
      ]
     },
     "execution_count": 23,
     "metadata": {},
     "output_type": "execute_result"
    }
   ],
   "source": [
    "array1.shape"
   ]
  },
  {
   "cell_type": "code",
   "execution_count": 24,
   "id": "af2f619b",
   "metadata": {},
   "outputs": [
    {
     "data": {
      "text/plain": [
       "(2, 3)"
      ]
     },
     "execution_count": 24,
     "metadata": {},
     "output_type": "execute_result"
    }
   ],
   "source": [
    "array2.shape"
   ]
  },
  {
   "cell_type": "code",
   "execution_count": 25,
   "id": "b82d76d0",
   "metadata": {},
   "outputs": [
    {
     "data": {
      "text/plain": [
       "array([[ 10,  20,   0,   0,   0],\n",
       "       [-30,  40,   0,   0,   0]])"
      ]
     },
     "execution_count": 25,
     "metadata": {},
     "output_type": "execute_result"
    }
   ],
   "source": [
    "np.concatenate((array1,array2), axis=1)"
   ]
  },
  {
   "cell_type": "code",
   "execution_count": 26,
   "id": "2497f37d",
   "metadata": {},
   "outputs": [
    {
     "ename": "ValueError",
     "evalue": "all the input array dimensions for the concatenation axis must match exactly, but along dimension 1, the array at index 0 has size 2 and the array at index 1 has size 3",
     "output_type": "error",
     "traceback": [
      "\u001b[1;31m---------------------------------------------------------------------------\u001b[0m",
      "\u001b[1;31mValueError\u001b[0m                                Traceback (most recent call last)",
      "\u001b[1;32m~\\AppData\\Local\\Temp\\ipykernel_12520\\3021879967.py\u001b[0m in \u001b[0;36m<module>\u001b[1;34m\u001b[0m\n\u001b[1;32m----> 1\u001b[1;33m \u001b[0mnp\u001b[0m\u001b[1;33m.\u001b[0m\u001b[0mconcatenate\u001b[0m\u001b[1;33m(\u001b[0m\u001b[1;33m(\u001b[0m\u001b[0marray1\u001b[0m\u001b[1;33m,\u001b[0m\u001b[0marray2\u001b[0m\u001b[1;33m)\u001b[0m\u001b[1;33m,\u001b[0m \u001b[0maxis\u001b[0m\u001b[1;33m=\u001b[0m\u001b[1;36m0\u001b[0m\u001b[1;33m)\u001b[0m\u001b[1;33m\u001b[0m\u001b[1;33m\u001b[0m\u001b[0m\n\u001b[0m",
      "\u001b[1;32m<__array_function__ internals>\u001b[0m in \u001b[0;36mconcatenate\u001b[1;34m(*args, **kwargs)\u001b[0m\n",
      "\u001b[1;31mValueError\u001b[0m: all the input array dimensions for the concatenation axis must match exactly, but along dimension 1, the array at index 0 has size 2 and the array at index 1 has size 3"
     ]
    }
   ],
   "source": [
    "np.concatenate((array1,array2), axis=0)"
   ]
  },
  {
   "cell_type": "markdown",
   "id": "93033b07",
   "metadata": {},
   "source": [
    "Reshaping Arrays\n",
    "We can modify the shape of an array using the reshape()\n",
    "function."
   ]
  },
  {
   "cell_type": "code",
   "execution_count": 16,
   "id": "76fbdae3",
   "metadata": {},
   "outputs": [
    {
     "data": {
      "text/plain": [
       "array([10, 11, 12, 13, 14, 15, 16, 17, 18, 19, 20, 21])"
      ]
     },
     "execution_count": 16,
     "metadata": {},
     "output_type": "execute_result"
    }
   ],
   "source": [
    "array3 = np.arange(10,22)\n",
    "array3\n"
   ]
  },
  {
   "cell_type": "code",
   "execution_count": 17,
   "id": "e7084988",
   "metadata": {},
   "outputs": [
    {
     "data": {
      "text/plain": [
       "(12,)"
      ]
     },
     "execution_count": 17,
     "metadata": {},
     "output_type": "execute_result"
    }
   ],
   "source": [
    "array3.shape"
   ]
  },
  {
   "cell_type": "code",
   "execution_count": 18,
   "id": "a1daf8a2",
   "metadata": {},
   "outputs": [
    {
     "data": {
      "text/plain": [
       "1"
      ]
     },
     "execution_count": 18,
     "metadata": {},
     "output_type": "execute_result"
    }
   ],
   "source": [
    "array3.ndim"
   ]
  },
  {
   "cell_type": "code",
   "execution_count": 19,
   "id": "57d81059",
   "metadata": {},
   "outputs": [
    {
     "data": {
      "text/plain": [
       "array([[10, 11, 12, 13],\n",
       "       [14, 15, 16, 17],\n",
       "       [18, 19, 20, 21]])"
      ]
     },
     "execution_count": 19,
     "metadata": {},
     "output_type": "execute_result"
    }
   ],
   "source": [
    "array3.reshape(3,4)"
   ]
  },
  {
   "cell_type": "code",
   "execution_count": 20,
   "id": "f9edbe08",
   "metadata": {},
   "outputs": [
    {
     "data": {
      "text/plain": [
       "array([[10, 11, 12, 13, 14, 15],\n",
       "       [16, 17, 18, 19, 20, 21]])"
      ]
     },
     "execution_count": 20,
     "metadata": {},
     "output_type": "execute_result"
    }
   ],
   "source": [
    "array3.reshape(2,6)"
   ]
  },
  {
   "cell_type": "code",
   "execution_count": 21,
   "id": "f33362c5",
   "metadata": {},
   "outputs": [
    {
     "data": {
      "text/plain": [
       "array([[10],\n",
       "       [11],\n",
       "       [12],\n",
       "       [13],\n",
       "       [14],\n",
       "       [15],\n",
       "       [16],\n",
       "       [17],\n",
       "       [18],\n",
       "       [19],\n",
       "       [20],\n",
       "       [21]])"
      ]
     },
     "execution_count": 21,
     "metadata": {},
     "output_type": "execute_result"
    }
   ],
   "source": [
    "array3.reshape(12,1)"
   ]
  },
  {
   "cell_type": "code",
   "execution_count": 22,
   "id": "e0a95ea5",
   "metadata": {},
   "outputs": [
    {
     "data": {
      "text/plain": [
       "array([[10, 11, 12, 13, 14, 15, 16, 17, 18, 19, 20, 21]])"
      ]
     },
     "execution_count": 22,
     "metadata": {},
     "output_type": "execute_result"
    }
   ],
   "source": [
    "array3.reshape(1,12)"
   ]
  },
  {
   "cell_type": "markdown",
   "id": "5c294af1",
   "metadata": {},
   "source": [
    "Splitting Arrays\n",
    "We can split an array into two or more subarrays.\n",
    "numpy.split() splits an array along the specified axis.\n",
    "We can either specify sequence of row numbers where an\n",
    "array is to be split; or we can specify an integer N, that\n",
    "indicates the number of equal parts in which the array\n",
    "is to be split, as parameter(s) to the NumPy.split()\n",
    "function. By default, NumPy.split() splits along axis =\n",
    "0."
   ]
  },
  {
   "cell_type": "code",
   "execution_count": 23,
   "id": "9576a3b1",
   "metadata": {},
   "outputs": [
    {
     "data": {
      "text/plain": [
       "array([[ 10,  -7,   0,  20],\n",
       "       [ -5,   1, 200,  40],\n",
       "       [ 30,   1,  -1,   4]])"
      ]
     },
     "execution_count": 23,
     "metadata": {},
     "output_type": "execute_result"
    }
   ],
   "source": [
    "array4"
   ]
  },
  {
   "cell_type": "code",
   "execution_count": 24,
   "id": "d731ce8a",
   "metadata": {},
   "outputs": [
    {
     "data": {
      "text/plain": [
       "array([[10, -7,  0, 20]])"
      ]
     },
     "execution_count": 24,
     "metadata": {},
     "output_type": "execute_result"
    }
   ],
   "source": [
    "# [1,2] indicate the row indices on which\n",
    "# to split the array\n",
    "first, second, third = np.split(array4,[1, 2])\n",
    "first"
   ]
  },
  {
   "cell_type": "code",
   "execution_count": 25,
   "id": "44178517",
   "metadata": {},
   "outputs": [
    {
     "data": {
      "text/plain": [
       "array([[ -5,   1, 200,  40]])"
      ]
     },
     "execution_count": 25,
     "metadata": {},
     "output_type": "execute_result"
    }
   ],
   "source": [
    "second"
   ]
  },
  {
   "cell_type": "code",
   "execution_count": 26,
   "id": "7fe1a89a",
   "metadata": {},
   "outputs": [
    {
     "data": {
      "text/plain": [
       "array([[30,  1, -1,  4]])"
      ]
     },
     "execution_count": 26,
     "metadata": {},
     "output_type": "execute_result"
    }
   ],
   "source": [
    "third"
   ]
  },
  {
   "cell_type": "code",
   "execution_count": 27,
   "id": "60cac169",
   "metadata": {},
   "outputs": [],
   "source": [
    "arraysplit = array4"
   ]
  },
  {
   "cell_type": "code",
   "execution_count": 28,
   "id": "158c1ca3",
   "metadata": {},
   "outputs": [
    {
     "data": {
      "text/plain": [
       "array([[ 10,  -7,   0,  20],\n",
       "       [ -5,   1, 200,  40],\n",
       "       [ 30,   1,  -1,   4]])"
      ]
     },
     "execution_count": 28,
     "metadata": {},
     "output_type": "execute_result"
    }
   ],
   "source": [
    "arraysplit"
   ]
  },
  {
   "cell_type": "code",
   "execution_count": 29,
   "id": "4d22d578",
   "metadata": {},
   "outputs": [
    {
     "ename": "ValueError",
     "evalue": "array split does not result in an equal division",
     "output_type": "error",
     "traceback": [
      "\u001b[1;31m---------------------------------------------------------------------------\u001b[0m",
      "\u001b[1;31mValueError\u001b[0m                                Traceback (most recent call last)",
      "Cell \u001b[1;32mIn[29], line 1\u001b[0m\n\u001b[1;32m----> 1\u001b[0m a,b \u001b[38;5;241m=\u001b[39m \u001b[43mnp\u001b[49m\u001b[38;5;241;43m.\u001b[39;49m\u001b[43msplit\u001b[49m\u001b[43m(\u001b[49m\u001b[43marraysplit\u001b[49m\u001b[43m,\u001b[49m\u001b[38;5;241;43m2\u001b[39;49m\u001b[43m)\u001b[49m\n",
      "File \u001b[1;32m<__array_function__ internals>:200\u001b[0m, in \u001b[0;36msplit\u001b[1;34m(*args, **kwargs)\u001b[0m\n",
      "File \u001b[1;32m~\\AppData\\Roaming\\Python\\Python310\\site-packages\\numpy\\lib\\shape_base.py:872\u001b[0m, in \u001b[0;36msplit\u001b[1;34m(ary, indices_or_sections, axis)\u001b[0m\n\u001b[0;32m    870\u001b[0m     N \u001b[38;5;241m=\u001b[39m ary\u001b[38;5;241m.\u001b[39mshape[axis]\n\u001b[0;32m    871\u001b[0m     \u001b[38;5;28;01mif\u001b[39;00m N \u001b[38;5;241m%\u001b[39m sections:\n\u001b[1;32m--> 872\u001b[0m         \u001b[38;5;28;01mraise\u001b[39;00m \u001b[38;5;167;01mValueError\u001b[39;00m(\n\u001b[0;32m    873\u001b[0m             \u001b[38;5;124m'\u001b[39m\u001b[38;5;124marray split does not result in an equal division\u001b[39m\u001b[38;5;124m'\u001b[39m) \u001b[38;5;28;01mfrom\u001b[39;00m \u001b[38;5;28mNone\u001b[39m\n\u001b[0;32m    874\u001b[0m \u001b[38;5;28;01mreturn\u001b[39;00m array_split(ary, indices_or_sections, axis)\n",
      "\u001b[1;31mValueError\u001b[0m: array split does not result in an equal division"
     ]
    }
   ],
   "source": [
    "a,b = np.split(arraysplit,2)"
   ]
  },
  {
   "cell_type": "code",
   "execution_count": 30,
   "id": "8cb0a82d",
   "metadata": {},
   "outputs": [],
   "source": [
    "a,b = np.split(arraysplit,2,axis=1)"
   ]
  },
  {
   "cell_type": "code",
   "execution_count": 31,
   "id": "649884db",
   "metadata": {},
   "outputs": [
    {
     "data": {
      "text/plain": [
       "array([[10, -7],\n",
       "       [-5,  1],\n",
       "       [30,  1]])"
      ]
     },
     "execution_count": 31,
     "metadata": {},
     "output_type": "execute_result"
    }
   ],
   "source": [
    "a"
   ]
  },
  {
   "cell_type": "code",
   "execution_count": 32,
   "id": "8ab49b3d",
   "metadata": {},
   "outputs": [
    {
     "data": {
      "text/plain": [
       "array([[  0,  20],\n",
       "       [200,  40],\n",
       "       [ -1,   4]])"
      ]
     },
     "execution_count": 32,
     "metadata": {},
     "output_type": "execute_result"
    }
   ],
   "source": [
    "b"
   ]
  },
  {
   "cell_type": "markdown",
   "id": "1ae0018d",
   "metadata": {},
   "source": [
    "Statistical Operations on Arrays\n"
   ]
  },
  {
   "cell_type": "code",
   "execution_count": 52,
   "id": "d6dcc81a",
   "metadata": {},
   "outputs": [],
   "source": [
    "arrayA = np.array([1,0,2,-3,6,8,4,7])\n",
    "arrayB = np.array([[3,6],[4,2]])"
   ]
  },
  {
   "cell_type": "code",
   "execution_count": 53,
   "id": "bc74465b",
   "metadata": {},
   "outputs": [
    {
     "data": {
      "text/plain": [
       "8"
      ]
     },
     "execution_count": 53,
     "metadata": {},
     "output_type": "execute_result"
    }
   ],
   "source": [
    "# max element form the whole 1-D array\n",
    "arrayA.max()\n"
   ]
  },
  {
   "cell_type": "code",
   "execution_count": 54,
   "id": "715a69e6",
   "metadata": {},
   "outputs": [
    {
     "data": {
      "text/plain": [
       "6"
      ]
     },
     "execution_count": 54,
     "metadata": {},
     "output_type": "execute_result"
    }
   ],
   "source": [
    "\n",
    "# max element form the whole 2-D array\n",
    "arrayB.max()"
   ]
  },
  {
   "cell_type": "code",
   "execution_count": 55,
   "id": "9ddb9667",
   "metadata": {},
   "outputs": [
    {
     "data": {
      "text/plain": [
       "array([6, 4])"
      ]
     },
     "execution_count": 55,
     "metadata": {},
     "output_type": "execute_result"
    }
   ],
   "source": [
    "# if axis=1, it gives column wise maximum\n",
    "arrayB.max(axis=1)"
   ]
  },
  {
   "cell_type": "code",
   "execution_count": 56,
   "id": "397f4646",
   "metadata": {},
   "outputs": [
    {
     "data": {
      "text/plain": [
       "array([[3, 6],\n",
       "       [4, 2]])"
      ]
     },
     "execution_count": 56,
     "metadata": {},
     "output_type": "execute_result"
    }
   ],
   "source": [
    "arrayB"
   ]
  },
  {
   "cell_type": "code",
   "execution_count": 57,
   "id": "aeb9efd5",
   "metadata": {},
   "outputs": [
    {
     "data": {
      "text/plain": [
       "array([4, 6])"
      ]
     },
     "execution_count": 57,
     "metadata": {},
     "output_type": "execute_result"
    }
   ],
   "source": [
    "arrayB.max(axis=0)"
   ]
  },
  {
   "cell_type": "code",
   "execution_count": null,
   "id": "929ccecc",
   "metadata": {},
   "outputs": [],
   "source": []
  }
 ],
 "metadata": {
  "kernelspec": {
   "display_name": "Python 3 (ipykernel)",
   "language": "python",
   "name": "python3"
  },
  "language_info": {
   "codemirror_mode": {
    "name": "ipython",
    "version": 3
   },
   "file_extension": ".py",
   "mimetype": "text/x-python",
   "name": "python",
   "nbconvert_exporter": "python",
   "pygments_lexer": "ipython3",
   "version": "3.10.10"
  }
 },
 "nbformat": 4,
 "nbformat_minor": 5
}
